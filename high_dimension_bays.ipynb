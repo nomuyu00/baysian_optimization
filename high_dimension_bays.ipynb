{
 "nbformat": 4,
 "nbformat_minor": 0,
 "metadata": {
  "colab": {
   "provenance": []
  },
  "kernelspec": {
   "name": "python3",
   "display_name": "Python 3 (ipykernel)",
   "language": "python"
  },
  "language_info": {
   "name": "python"
  },
  "widgets": {
   "application/vnd.jupyter.widget-state+json": {
    "1afa0f53e6f740aa844484642c3d80c1": {
     "model_module": "@jupyter-widgets/controls",
     "model_name": "HBoxModel",
     "model_module_version": "1.5.0",
     "state": {
      "_dom_classes": [],
      "_model_module": "@jupyter-widgets/controls",
      "_model_module_version": "1.5.0",
      "_model_name": "HBoxModel",
      "_view_count": null,
      "_view_module": "@jupyter-widgets/controls",
      "_view_module_version": "1.5.0",
      "_view_name": "HBoxView",
      "box_style": "",
      "children": [
       "IPY_MODEL_1b55749b3fa043b8a6fd555305db2944",
       "IPY_MODEL_70740e89fa304143b3e7b3a4a0cd87ad",
       "IPY_MODEL_e63abcaacc6449039d73b58d7296265e"
      ],
      "layout": "IPY_MODEL_496ad9319d8243d280de82a7b1076962"
     }
    },
    "1b55749b3fa043b8a6fd555305db2944": {
     "model_module": "@jupyter-widgets/controls",
     "model_name": "HTMLModel",
     "model_module_version": "1.5.0",
     "state": {
      "_dom_classes": [],
      "_model_module": "@jupyter-widgets/controls",
      "_model_module_version": "1.5.0",
      "_model_name": "HTMLModel",
      "_view_count": null,
      "_view_module": "@jupyter-widgets/controls",
      "_view_module_version": "1.5.0",
      "_view_name": "HTMLView",
      "description": "",
      "description_tooltip": null,
      "layout": "IPY_MODEL_84a211d6ea5a49e4861bbe0d4bc48a8b",
      "placeholder": "​",
      "style": "IPY_MODEL_b6bf801aeaff419ea299d38dcfdd4897",
      "value": "100%"
     }
    },
    "70740e89fa304143b3e7b3a4a0cd87ad": {
     "model_module": "@jupyter-widgets/controls",
     "model_name": "FloatProgressModel",
     "model_module_version": "1.5.0",
     "state": {
      "_dom_classes": [],
      "_model_module": "@jupyter-widgets/controls",
      "_model_module_version": "1.5.0",
      "_model_name": "FloatProgressModel",
      "_view_count": null,
      "_view_module": "@jupyter-widgets/controls",
      "_view_module_version": "1.5.0",
      "_view_name": "ProgressView",
      "bar_style": "success",
      "description": "",
      "description_tooltip": null,
      "layout": "IPY_MODEL_0af17b96dece47eca9ca9d7be6dc63b0",
      "max": 100,
      "min": 0,
      "orientation": "horizontal",
      "style": "IPY_MODEL_a51f753d216a4f548c43c058db765d34",
      "value": 100
     }
    },
    "e63abcaacc6449039d73b58d7296265e": {
     "model_module": "@jupyter-widgets/controls",
     "model_name": "HTMLModel",
     "model_module_version": "1.5.0",
     "state": {
      "_dom_classes": [],
      "_model_module": "@jupyter-widgets/controls",
      "_model_module_version": "1.5.0",
      "_model_name": "HTMLModel",
      "_view_count": null,
      "_view_module": "@jupyter-widgets/controls",
      "_view_module_version": "1.5.0",
      "_view_name": "HTMLView",
      "description": "",
      "description_tooltip": null,
      "layout": "IPY_MODEL_72625ba6d5ac46f8b6efea358be8cf59",
      "placeholder": "​",
      "style": "IPY_MODEL_4bdb725ab6284f468a9d718aa13bd69d",
      "value": " 100/100 [elapsed: 00:45 remaining: 00:00]"
     }
    },
    "496ad9319d8243d280de82a7b1076962": {
     "model_module": "@jupyter-widgets/base",
     "model_name": "LayoutModel",
     "model_module_version": "1.2.0",
     "state": {
      "_model_module": "@jupyter-widgets/base",
      "_model_module_version": "1.2.0",
      "_model_name": "LayoutModel",
      "_view_count": null,
      "_view_module": "@jupyter-widgets/base",
      "_view_module_version": "1.2.0",
      "_view_name": "LayoutView",
      "align_content": null,
      "align_items": null,
      "align_self": null,
      "border": null,
      "bottom": null,
      "display": null,
      "flex": null,
      "flex_flow": null,
      "grid_area": null,
      "grid_auto_columns": null,
      "grid_auto_flow": null,
      "grid_auto_rows": null,
      "grid_column": null,
      "grid_gap": null,
      "grid_row": null,
      "grid_template_areas": null,
      "grid_template_columns": null,
      "grid_template_rows": null,
      "height": null,
      "justify_content": null,
      "justify_items": null,
      "left": null,
      "margin": null,
      "max_height": null,
      "max_width": null,
      "min_height": null,
      "min_width": null,
      "object_fit": null,
      "object_position": null,
      "order": null,
      "overflow": null,
      "overflow_x": null,
      "overflow_y": null,
      "padding": null,
      "right": null,
      "top": null,
      "visibility": null,
      "width": null
     }
    },
    "84a211d6ea5a49e4861bbe0d4bc48a8b": {
     "model_module": "@jupyter-widgets/base",
     "model_name": "LayoutModel",
     "model_module_version": "1.2.0",
     "state": {
      "_model_module": "@jupyter-widgets/base",
      "_model_module_version": "1.2.0",
      "_model_name": "LayoutModel",
      "_view_count": null,
      "_view_module": "@jupyter-widgets/base",
      "_view_module_version": "1.2.0",
      "_view_name": "LayoutView",
      "align_content": null,
      "align_items": null,
      "align_self": null,
      "border": null,
      "bottom": null,
      "display": null,
      "flex": null,
      "flex_flow": null,
      "grid_area": null,
      "grid_auto_columns": null,
      "grid_auto_flow": null,
      "grid_auto_rows": null,
      "grid_column": null,
      "grid_gap": null,
      "grid_row": null,
      "grid_template_areas": null,
      "grid_template_columns": null,
      "grid_template_rows": null,
      "height": null,
      "justify_content": null,
      "justify_items": null,
      "left": null,
      "margin": null,
      "max_height": null,
      "max_width": null,
      "min_height": null,
      "min_width": null,
      "object_fit": null,
      "object_position": null,
      "order": null,
      "overflow": null,
      "overflow_x": null,
      "overflow_y": null,
      "padding": null,
      "right": null,
      "top": null,
      "visibility": null,
      "width": null
     }
    },
    "b6bf801aeaff419ea299d38dcfdd4897": {
     "model_module": "@jupyter-widgets/controls",
     "model_name": "DescriptionStyleModel",
     "model_module_version": "1.5.0",
     "state": {
      "_model_module": "@jupyter-widgets/controls",
      "_model_module_version": "1.5.0",
      "_model_name": "DescriptionStyleModel",
      "_view_count": null,
      "_view_module": "@jupyter-widgets/base",
      "_view_module_version": "1.2.0",
      "_view_name": "StyleView",
      "description_width": ""
     }
    },
    "0af17b96dece47eca9ca9d7be6dc63b0": {
     "model_module": "@jupyter-widgets/base",
     "model_name": "LayoutModel",
     "model_module_version": "1.2.0",
     "state": {
      "_model_module": "@jupyter-widgets/base",
      "_model_module_version": "1.2.0",
      "_model_name": "LayoutModel",
      "_view_count": null,
      "_view_module": "@jupyter-widgets/base",
      "_view_module_version": "1.2.0",
      "_view_name": "LayoutView",
      "align_content": null,
      "align_items": null,
      "align_self": null,
      "border": null,
      "bottom": null,
      "display": null,
      "flex": null,
      "flex_flow": null,
      "grid_area": null,
      "grid_auto_columns": null,
      "grid_auto_flow": null,
      "grid_auto_rows": null,
      "grid_column": null,
      "grid_gap": null,
      "grid_row": null,
      "grid_template_areas": null,
      "grid_template_columns": null,
      "grid_template_rows": null,
      "height": null,
      "justify_content": null,
      "justify_items": null,
      "left": null,
      "margin": null,
      "max_height": null,
      "max_width": null,
      "min_height": null,
      "min_width": null,
      "object_fit": null,
      "object_position": null,
      "order": null,
      "overflow": null,
      "overflow_x": null,
      "overflow_y": null,
      "padding": null,
      "right": null,
      "top": null,
      "visibility": null,
      "width": null
     }
    },
    "a51f753d216a4f548c43c058db765d34": {
     "model_module": "@jupyter-widgets/controls",
     "model_name": "ProgressStyleModel",
     "model_module_version": "1.5.0",
     "state": {
      "_model_module": "@jupyter-widgets/controls",
      "_model_module_version": "1.5.0",
      "_model_name": "ProgressStyleModel",
      "_view_count": null,
      "_view_module": "@jupyter-widgets/base",
      "_view_module_version": "1.2.0",
      "_view_name": "StyleView",
      "bar_color": null,
      "description_width": ""
     }
    },
    "72625ba6d5ac46f8b6efea358be8cf59": {
     "model_module": "@jupyter-widgets/base",
     "model_name": "LayoutModel",
     "model_module_version": "1.2.0",
     "state": {
      "_model_module": "@jupyter-widgets/base",
      "_model_module_version": "1.2.0",
      "_model_name": "LayoutModel",
      "_view_count": null,
      "_view_module": "@jupyter-widgets/base",
      "_view_module_version": "1.2.0",
      "_view_name": "LayoutView",
      "align_content": null,
      "align_items": null,
      "align_self": null,
      "border": null,
      "bottom": null,
      "display": null,
      "flex": null,
      "flex_flow": null,
      "grid_area": null,
      "grid_auto_columns": null,
      "grid_auto_flow": null,
      "grid_auto_rows": null,
      "grid_column": null,
      "grid_gap": null,
      "grid_row": null,
      "grid_template_areas": null,
      "grid_template_columns": null,
      "grid_template_rows": null,
      "height": null,
      "justify_content": null,
      "justify_items": null,
      "left": null,
      "margin": null,
      "max_height": null,
      "max_width": null,
      "min_height": null,
      "min_width": null,
      "object_fit": null,
      "object_position": null,
      "order": null,
      "overflow": null,
      "overflow_x": null,
      "overflow_y": null,
      "padding": null,
      "right": null,
      "top": null,
      "visibility": null,
      "width": null
     }
    },
    "4bdb725ab6284f468a9d718aa13bd69d": {
     "model_module": "@jupyter-widgets/controls",
     "model_name": "DescriptionStyleModel",
     "model_module_version": "1.5.0",
     "state": {
      "_model_module": "@jupyter-widgets/controls",
      "_model_module_version": "1.5.0",
      "_model_name": "DescriptionStyleModel",
      "_view_count": null,
      "_view_module": "@jupyter-widgets/base",
      "_view_module_version": "1.2.0",
      "_view_name": "StyleView",
      "description_width": ""
     }
    }
   }
  }
 },
 "cells": [
  {
   "metadata": {
    "ExecuteTime": {
     "end_time": "2024-07-31T11:29:19.076396Z",
     "start_time": "2024-07-31T11:29:19.022180Z"
    }
   },
   "cell_type": "code",
   "source": [
    "from IPython.utils import io\n",
    "import os\n",
    "import subprocess\n",
    "import tqdm.notebook\n",
    "\n",
    "TQDM_BAR_FORMAT = '{l_bar}{bar}| {n_fmt}/{total_fmt} [elapsed: {elapsed} remaining: {remaining}]'\n"
   ],
   "outputs": [],
   "execution_count": 1
  },
  {
   "cell_type": "code",
   "source": [
    "import torch\n",
    "from botorch import fit_gpytorch_model\n",
    "from botorch.acquisition import UpperConfidenceBound\n",
    "from botorch.models import SingleTaskGP\n",
    "from botorch.optim import optimize_acqf\n",
    "from gpytorch.mlls import ExactMarginalLogLikelihood\n",
    "from gpytorch.kernels import RBFKernel, ScaleKernel\n",
    "import numpy as np\n",
    "import matplotlib.pyplot as plt\n",
    "from sklearn.preprocessing import StandardScaler"
   ],
   "metadata": {
    "id": "5b0mNZdUCUhZ",
    "ExecuteTime": {
     "end_time": "2024-07-31T11:29:23.555832Z",
     "start_time": "2024-07-31T11:29:19.076396Z"
    }
   },
   "outputs": [],
   "execution_count": 2
  },
  {
   "cell_type": "markdown",
   "source": "# 目的関数の用意 (Rosenbrock関数)",
   "metadata": {
    "id": "t6vSA03y-DlJ"
   }
  },
  {
   "cell_type": "code",
   "source": [
    "def rosenbrock(x):\n",
    "    return torch.sum(100.0 * (x[..., 1:] - x[..., :-1]**2)**2 + (1 - x[..., :-1])**2, dim=-1)"
   ],
   "metadata": {
    "id": "bXL2EF3t-Jlj",
    "ExecuteTime": {
     "end_time": "2024-07-31T11:29:23.558618Z",
     "start_time": "2024-07-31T11:29:23.555832Z"
    }
   },
   "outputs": [],
   "execution_count": 3
  },
  {
   "cell_type": "code",
   "source": [
    "# rosenbrockを使う場合\n",
    "global_optimum = 0.0"
   ],
   "metadata": {
    "id": "d3CnViCV-O8t",
    "ExecuteTime": {
     "end_time": "2024-07-31T11:29:23.561100Z",
     "start_time": "2024-07-31T11:29:23.558618Z"
    }
   },
   "outputs": [],
   "execution_count": 4
  },
  {
   "cell_type": "markdown",
   "source": [
    "# 初期点の生成関数"
   ],
   "metadata": {
    "id": "8w-P5Vpg-s1_"
   }
  },
  {
   "cell_type": "markdown",
   "source": [],
   "metadata": {
    "id": "6XMsy_wo-yTR"
   }
  },
  {
   "cell_type": "code",
   "source": [
    "def generate_initial_points(n_initial, dim, bounds):\n",
    "    return torch.rand(n_initial, dim) * (bounds[1] - bounds[0]) + bounds[0]"
   ],
   "metadata": {
    "id": "i2mpt0XN-ys4",
    "ExecuteTime": {
     "end_time": "2024-07-31T11:29:23.563755Z",
     "start_time": "2024-07-31T11:29:23.561100Z"
    }
   },
   "outputs": [],
   "execution_count": 5
  },
  {
   "cell_type": "markdown",
   "source": [
    "# モデル作成関数\n"
   ],
   "metadata": {
    "id": "-U8hGE6G-7jh"
   }
  },
  {
   "cell_type": "code",
   "source": [
    "def create_model(train_X, train_Y):\n",
    "    kernel = ScaleKernel(RBFKernel(ard_num_dims=train_X.shape[-1], noise_constraint=1e-5))\n",
    "    model = SingleTaskGP(train_X, train_Y, covar_module=kernel)\n",
    "    return model\n"
   ],
   "metadata": {
    "id": "k05lLlt9-6fL",
    "ExecuteTime": {
     "end_time": "2024-07-31T11:29:23.566258Z",
     "start_time": "2024-07-31T11:29:23.563755Z"
    }
   },
   "outputs": [],
   "execution_count": 6
  },
  {
   "cell_type": "markdown",
   "source": "# ドロップアウトベイズクラス",
   "metadata": {
    "id": "bCc5R9W7_BmY"
   }
  },
  {
   "cell_type": "code",
   "source": [
    "class DropoutMixBO:\n",
    "    def __init__(self, dim, active_dim, bounds, n_initial,obj_function, dropout_prob=0.1):\n",
    "        self.dim = dim\n",
    "        self.active_dim = active_dim\n",
    "        self.bounds = bounds\n",
    "        self.obj_function = obj_function\n",
    "        self.dropout_prob = dropout_prob\n",
    "        self.X = generate_initial_points(n_initial, dim, bounds)\n",
    "        self.Y = self.obj_function(self.X)\n",
    "        self.best_f = self.Y.min().item()\n",
    "        self.best_x = self.X[self.Y.argmin()]\n",
    "        self.eval_history = [self.best_f] * n_initial\n",
    "\n",
    "    def optimize(self, n_iter):\n",
    "        for _ in range(n_iter):\n",
    "            # 全次元からランダムにactive_dim個選ぶ\n",
    "            active_dims = np.random.choice(self.dim, self.active_dim, replace=False)\n",
    "\n",
    "            train_X = self.X[:, active_dims]\n",
    "            train_Y = self.Y.unsqueeze(-1)\n",
    "            model = create_model(train_X, train_Y)\n",
    "            mll = ExactMarginalLogLikelihood(model.likelihood, model)\n",
    "            fit_gpytorch_model(mll)\n",
    "\n",
    "            UCB = UpperConfidenceBound(model, beta=0.1)\n",
    "            bounds_active = torch.stack([self.bounds[0][active_dims], self.bounds[1][active_dims]])\n",
    "            candidate, _ = optimize_acqf(\n",
    "                UCB, bounds=bounds_active, q=1, num_restarts=5, raw_samples=20,\n",
    "            )\n",
    "\n",
    "            x_new = torch.zeros(self.dim)\n",
    "            if np.random.random() < self.dropout_prob:\n",
    "                x_new[active_dims] = candidate.squeeze()\n",
    "                inactive_dims = np.setdiff1d(range(self.dim), active_dims)\n",
    "                x_new[inactive_dims] = (torch.rand(len(inactive_dims))\n",
    "                                        * (self.bounds[1][inactive_dims] - self.bounds[0][inactive_dims])\n",
    "                                        + self.bounds[0][inactive_dims])\n",
    "            else:\n",
    "                x_new[active_dims] = candidate.squeeze()\n",
    "                x_new[np.setdiff1d(range(self.dim), active_dims)] = self.best_x[\n",
    "                    np.setdiff1d(range(self.dim), active_dims)]\n",
    "\n",
    "            y_new = self.obj_function(x_new.unsqueeze(0))\n",
    "\n",
    "            self.X = torch.cat([self.X, x_new.unsqueeze(0)])\n",
    "            self.Y = torch.cat([self.Y, y_new])\n",
    "\n",
    "            if y_new < self.best_f:\n",
    "                self.best_f = y_new.item()\n",
    "                self.best_x = x_new\n",
    "\n",
    "            self.eval_history.append(self.best_f)\n",
    "\n",
    "        return self.best_x, self.best_f"
   ],
   "metadata": {
    "id": "bAATR5uq_Jb6",
    "ExecuteTime": {
     "end_time": "2024-07-31T11:29:23.571039Z",
     "start_time": "2024-07-31T11:29:23.566258Z"
    }
   },
   "outputs": [],
   "execution_count": 7
  },
  {
   "metadata": {},
   "cell_type": "markdown",
   "source": "# REMBO"
  },
  {
   "metadata": {
    "ExecuteTime": {
     "end_time": "2024-07-31T11:29:23.575496Z",
     "start_time": "2024-07-31T11:29:23.571039Z"
    }
   },
   "cell_type": "code",
   "source": [
    "class REMBO:\n",
    "    def __init__(self, high_dim, low_dim, bounds, n_initial, obj_function):\n",
    "        self.high_dim = high_dim\n",
    "        self.low_dim = low_dim\n",
    "        self.bounds = bounds\n",
    "        self.obj_function = obj_function\n",
    "        self.X = torch.randn(n_initial, low_dim) * 2 - 1\n",
    "        self.A = torch.randn(high_dim, low_dim)\n",
    "        self.X_high = torch.clamp(torch.matmul(self.X, self.A.t()), bounds[0], bounds[1])\n",
    "        self.Y = self.obj_function(self.X_high)\n",
    "        self.best_f = self.Y.min().item()\n",
    "        self.best_x = self.X_high[self.Y.argmin()]\n",
    "        self.eval_history = [self.best_f] * n_initial\n",
    "\n",
    "    def optimize(self, n_iter):\n",
    "        for _ in range(n_iter):\n",
    "            # イテレーションごとにランダムな行列を生成\n",
    "            self.A = torch.randn(self.high_dim, self.low_dim)\n",
    "            self.X_high = torch.clamp(torch.matmul(self.X, self.A.t()), self.bounds[0], self.bounds[1])\n",
    "            self.Y = self.obj_function(self.X_high)\n",
    "\n",
    "            train_X = self.X\n",
    "            train_Y = self.Y.unsqueeze(-1)\n",
    "            model = create_model(train_X, train_Y)\n",
    "            mll = ExactMarginalLogLikelihood(model.likelihood, model)\n",
    "            fit_gpytorch_model(mll)\n",
    "\n",
    "            UCB = UpperConfidenceBound(model, beta=0.1)\n",
    "            bounds_low = torch.stack([torch.ones(self.low_dim) * -1, torch.ones(self.low_dim)])\n",
    "            candidate, _ = optimize_acqf(\n",
    "                UCB, bounds=bounds_low, q=1, num_restarts=5, raw_samples=20,\n",
    "            )\n",
    "\n",
    "            x_low = candidate.squeeze()\n",
    "            x_high = torch.clamp(torch.matmul(x_low.unsqueeze(0), self.A.t()), self.bounds[0], self.bounds[1]).squeeze()\n",
    "\n",
    "            y_new = self.obj_function(x_high.unsqueeze(0))\n",
    "\n",
    "            self.X = torch.cat([self.X, x_low.unsqueeze(0)])\n",
    "            self.X_high = torch.cat([self.X_high, x_high.unsqueeze(0)])\n",
    "            self.Y = torch.cat([self.Y, y_new])\n",
    "\n",
    "            if y_new < self.best_f:\n",
    "                self.best_f = y_new.item()\n",
    "                self.best_x = x_high\n",
    "\n",
    "            self.eval_history.append(self.best_f)\n",
    "\n",
    "        return self.best_x, self.best_f"
   ],
   "outputs": [],
   "execution_count": 8
  },
  {
   "metadata": {},
   "cell_type": "markdown",
   "source": ""
  },
  {
   "metadata": {},
   "cell_type": "markdown",
   "source": "# バンディットアルゴリズムを用いたドロップアウトベイズクラス"
  },
  {
   "metadata": {
    "ExecuteTime": {
     "end_time": "2024-07-31T11:29:23.581438Z",
     "start_time": "2024-07-31T11:29:23.575496Z"
    }
   },
   "cell_type": "code",
   "source": [
    "class DropoutMixBO_Bandit:\n",
    "    def __init__(self, dim, active_dim, bounds, n_initial, obj_function, dropout_prob=0.1):\n",
    "        self.dim = dim\n",
    "        self.active_dim = active_dim\n",
    "        self.bounds = bounds\n",
    "        self.dropout_prob = dropout_prob\n",
    "        self.obj_function = obj_function\n",
    "        \n",
    "        self.X_scaler = StandardScaler()\n",
    "        \n",
    "        initial_X = generate_initial_points(n_initial, dim, bounds)\n",
    "        initial_Y = obj_function(initial_X)\n",
    "        \n",
    "        self.X = torch.tensor(self.X_scaler.fit_transform(initial_X), dtype=torch.double)\n",
    "        self.Y = torch.tensor(initial_Y, dtype=torch.double)\n",
    "        \n",
    "        self.best_f = self.Y.min().item()\n",
    "        self.best_x = torch.tensor(initial_X[self.Y.argmin()], dtype=torch.double)\n",
    "        self.eval_history = [self.best_f] * n_initial\n",
    "        self.improvement_history = []\n",
    "        \n",
    "        # バンディットアルゴリズム用の変数\n",
    "        self.dim_counts = np.zeros(dim)\n",
    "        self.dim_rewards = np.zeros(dim)\n",
    "        self.total_pulls = 0\n",
    "\n",
    "    def select_active_dims(self):\n",
    "        ucb_scores = self.dim_rewards / (self.dim_counts + 1e-5) + np.sqrt(2 * np.log(self.total_pulls + 1) / (self.dim_counts + 1e-5))\n",
    "        return np.argsort(ucb_scores)[-self.active_dim:]\n",
    "\n",
    "    def update_bandit(self, selected_dims, reward):\n",
    "        self.dim_counts[selected_dims] += 1\n",
    "        self.dim_rewards[selected_dims] += reward\n",
    "        self.total_pulls += 1       \n",
    "\n",
    "    def optimize(self, n_iter):\n",
    "        for _ in range(n_iter):\n",
    "            active_dims = self.select_active_dims()\n",
    "\n",
    "            train_X = self.X[:, active_dims]\n",
    "            train_Y = self.Y.unsqueeze(-1)\n",
    "            model = create_model(train_X, train_Y)\n",
    "            mll = ExactMarginalLogLikelihood(model.likelihood, model)\n",
    "            fit_gpytorch_model(mll)\n",
    "\n",
    "            UCB = UpperConfidenceBound(model, beta=0.1)\n",
    "            bounds_active = torch.stack([self.bounds[0][active_dims], self.bounds[1][active_dims]]).double()\n",
    "            \n",
    "            candidate, _ = optimize_acqf(\n",
    "                UCB, bounds=bounds_active, q=1, num_restarts=5, raw_samples=20,\n",
    "            )\n",
    "\n",
    "            x_new_scaled = torch.zeros(self.dim, dtype=torch.double)\n",
    "            if np.random.random() < self.dropout_prob:\n",
    "                x_new_scaled[active_dims] = candidate.squeeze()\n",
    "                inactive_dims = np.setdiff1d(range(self.dim), active_dims)\n",
    "                x_new_scaled[inactive_dims] = self.X[np.random.randint(self.X.shape[0]), inactive_dims]\n",
    "            else:\n",
    "                x_new_scaled[active_dims] = candidate.squeeze()\n",
    "                x_new_scaled[np.setdiff1d(range(self.dim), active_dims)] = torch.tensor(self.X_scaler.transform(self.best_x.unsqueeze(0).numpy())[0][np.setdiff1d(range(self.dim), active_dims)], dtype=torch.double)\n",
    "\n",
    "            x_new = torch.tensor(self.X_scaler.inverse_transform(x_new_scaled.unsqueeze(0).numpy()), dtype=torch.double).squeeze()\n",
    "            y_new = self.obj_function(x_new.unsqueeze(0))\n",
    "\n",
    "            self.X = torch.cat([self.X, x_new_scaled.unsqueeze(0)])\n",
    "            self.Y = torch.cat([self.Y, y_new])\n",
    "\n",
    "            improvement = max(self.best_f - y_new.item(), 0)\n",
    "            self.update_bandit(active_dims, improvement)\n",
    "            self.improvement_history.append(improvement)\n",
    "\n",
    "            if y_new < self.best_f:\n",
    "                self.best_f = y_new.item()\n",
    "                self.best_x = x_new\n",
    "\n",
    "            self.eval_history.append(self.best_f)\n",
    "\n",
    "        return self.best_x, self.best_f"
   ],
   "outputs": [],
   "execution_count": 9
  },
  {
   "metadata": {},
   "cell_type": "markdown",
   "source": "# BC-UCBアルゴリズムを取り入れたDropoutMixBO_BCUCBクラス"
  },
  {
   "metadata": {
    "ExecuteTime": {
     "end_time": "2024-07-31T11:29:23.587650Z",
     "start_time": "2024-07-31T11:29:23.581438Z"
    }
   },
   "cell_type": "code",
   "source": [
    "class DropoutMixBO_BC_UCB:\n",
    "    def __init__(self, dim, active_dim, bounds, n_initial, obj_function, dropout_prob=0.1):\n",
    "        self.dim = dim\n",
    "        self.active_dim = active_dim\n",
    "        self.bounds = bounds\n",
    "        self.dropout_prob = dropout_prob\n",
    "        self.obj_function = obj_function\n",
    "        \n",
    "        self.X_scaler = StandardScaler()\n",
    "        \n",
    "        initial_X = generate_initial_points(n_initial, dim, bounds)\n",
    "        initial_Y = obj_function(initial_X)\n",
    "        \n",
    "        self.X = torch.tensor(self.X_scaler.fit_transform(initial_X), dtype=torch.double)\n",
    "        self.Y = torch.tensor(initial_Y, dtype=torch.double)\n",
    "        \n",
    "        self.best_f = self.Y.min().item()\n",
    "        self.best_x = torch.tensor(initial_X[self.Y.argmin()], dtype=torch.double)\n",
    "        self.eval_history = [self.best_f] * n_initial\n",
    "        self.improvement_history = []\n",
    "        \n",
    "        # BC-UCB用の変数\n",
    "        self.dim_counts = np.zeros(dim)\n",
    "        self.dim_rewards = np.zeros(dim)\n",
    "        self.dim_squared_rewards = np.zeros(dim)\n",
    "        self.total_pulls = 0\n",
    "\n",
    "    def select_active_dims(self):\n",
    "        empirical_means = self.dim_rewards / (self.dim_counts + 1e-5)\n",
    "        empirical_vars = self.dim_squared_rewards / (self.dim_counts + 1e-5) - empirical_means**2\n",
    "        empirical_vars = np.maximum(empirical_vars, 1e-5)  # Ensure non-negative variance\n",
    "        \n",
    "        ucb_scores = empirical_means + np.sqrt(6 * empirical_vars * np.log(self.total_pulls + 1) / (self.dim_counts + 1e-5)) + 9 * np.log(self.total_pulls + 1) / (self.dim_counts + 1e-5)\n",
    "        return np.argsort(ucb_scores)[-self.active_dim:]\n",
    "\n",
    "    def update_bandit(self, selected_dims, reward):\n",
    "        self.dim_counts[selected_dims] += 1\n",
    "        self.dim_rewards[selected_dims] += reward\n",
    "        self.dim_squared_rewards[selected_dims] += reward**2\n",
    "        self.total_pulls += 1\n",
    "\n",
    "    def optimize(self, n_iter):\n",
    "        for _ in range(n_iter):\n",
    "            active_dims = self.select_active_dims()\n",
    "\n",
    "            train_X = self.X[:, active_dims]\n",
    "            train_Y = self.Y.unsqueeze(-1)\n",
    "            \n",
    "            model = create_model(train_X, train_Y)\n",
    "            mll = ExactMarginalLogLikelihood(model.likelihood, model)\n",
    "            fit_gpytorch_model(mll)\n",
    "\n",
    "            UCB = UpperConfidenceBound(model, beta=0.1)\n",
    "            bounds_active = torch.stack([self.bounds[0][active_dims], self.bounds[1][active_dims]]).double()\n",
    "            \n",
    "            candidate, _ = optimize_acqf(\n",
    "                UCB, bounds=bounds_active, q=1, num_restarts=10, raw_samples=100,\n",
    "                options={\"maxiter\": 200, \"batch_limit\": 5}\n",
    "            )\n",
    "\n",
    "            x_new_scaled = torch.zeros(self.dim, dtype=torch.double)\n",
    "            if np.random.random() < self.dropout_prob:\n",
    "                x_new_scaled[active_dims] = candidate.squeeze()\n",
    "                inactive_dims = np.setdiff1d(range(self.dim), active_dims)\n",
    "                x_new_scaled[inactive_dims] = self.X[np.random.randint(self.X.shape[0]), inactive_dims]\n",
    "            else:\n",
    "                x_new_scaled[active_dims] = candidate.squeeze()\n",
    "                x_new_scaled[np.setdiff1d(range(self.dim), active_dims)] = torch.tensor(self.X_scaler.transform(self.best_x.unsqueeze(0).numpy())[0][np.setdiff1d(range(self.dim), active_dims)], dtype=torch.double)\n",
    "\n",
    "            x_new = torch.tensor(self.X_scaler.inverse_transform(x_new_scaled.unsqueeze(0).numpy()), dtype=torch.double).squeeze()\n",
    "            y_new = self.obj_function(x_new.unsqueeze(0))\n",
    "\n",
    "            self.X = torch.cat([self.X, x_new_scaled.unsqueeze(0)])\n",
    "            self.Y = torch.cat([self.Y, y_new])\n",
    "\n",
    "            improvement = max(self.best_f - y_new.item(), 0)\n",
    "            self.update_bandit(active_dims, improvement)\n",
    "            self.improvement_history.append(improvement)\n",
    "\n",
    "            if y_new < self.best_f:\n",
    "                self.best_f = y_new.item()\n",
    "                self.best_x = x_new\n",
    "\n",
    "            self.eval_history.append(self.best_f)\n",
    "\n",
    "        return self.best_x, self.best_f"
   ],
   "outputs": [],
   "execution_count": 10
  },
  {
   "cell_type": "markdown",
   "source": "# 最適化の実行\n",
   "metadata": {
    "id": "t8sX27BRBGUy"
   }
  },
  {
   "cell_type": "code",
   "source": [
    "dim = 25\n",
    "active_dim = 5\n",
    "bounds = torch.tensor([[-5.0] * dim, [5.0] * dim])\n",
    "n_initial = 200\n",
    "n_iter = 100"
   ],
   "metadata": {
    "id": "KlrVSaIvBJMm",
    "ExecuteTime": {
     "end_time": "2024-07-31T11:29:23.590261Z",
     "start_time": "2024-07-31T11:29:23.587650Z"
    }
   },
   "outputs": [],
   "execution_count": 11
  },
  {
   "cell_type": "code",
   "source": [
    "dropout_bo_mix = DropoutMixBO(dim, active_dim, bounds, n_initial, rosenbrock, dropout_prob=0.1)\n",
    "dropout_bo_copy = DropoutMixBO(dim, active_dim, bounds, n_initial, rosenbrock, dropout_prob=0.0)\n",
    "dropout_bo_random = DropoutMixBO(dim, active_dim, bounds, n_initial, rosenbrock, dropout_prob=1.0)\n",
    "dropout_bandit = DropoutMixBO_Bandit(dim, active_dim, bounds, n_initial, rosenbrock, dropout_prob=0.0)\n",
    "dropout_bandit_bc_ucb = DropoutMixBO_BC_UCB(dim, active_dim, bounds, n_initial, rosenbrock, dropout_prob=0.0)\n",
    "rembo = REMBO(dim, active_dim, bounds, n_initial, rosenbrock)"
   ],
   "metadata": {
    "id": "bFmsaVIdBMyY",
    "ExecuteTime": {
     "end_time": "2024-07-31T11:29:23.607981Z",
     "start_time": "2024-07-31T11:29:23.590261Z"
    }
   },
   "outputs": [
    {
     "name": "stderr",
     "output_type": "stream",
     "text": [
      "C:\\Users\\nomuyu\\AppData\\Local\\Temp\\ipykernel_35244\\3789012156.py:15: UserWarning: To copy construct from a tensor, it is recommended to use sourceTensor.clone().detach() or sourceTensor.clone().detach().requires_grad_(True), rather than torch.tensor(sourceTensor).\n",
      "  self.Y = torch.tensor(initial_Y, dtype=torch.double)\n",
      "C:\\Users\\nomuyu\\AppData\\Local\\Temp\\ipykernel_35244\\3789012156.py:18: UserWarning: To copy construct from a tensor, it is recommended to use sourceTensor.clone().detach() or sourceTensor.clone().detach().requires_grad_(True), rather than torch.tensor(sourceTensor).\n",
      "  self.best_x = torch.tensor(initial_X[self.Y.argmin()], dtype=torch.double)\n",
      "C:\\Users\\nomuyu\\AppData\\Local\\Temp\\ipykernel_35244\\395105188.py:15: UserWarning: To copy construct from a tensor, it is recommended to use sourceTensor.clone().detach() or sourceTensor.clone().detach().requires_grad_(True), rather than torch.tensor(sourceTensor).\n",
      "  self.Y = torch.tensor(initial_Y, dtype=torch.double)\n",
      "C:\\Users\\nomuyu\\AppData\\Local\\Temp\\ipykernel_35244\\395105188.py:18: UserWarning: To copy construct from a tensor, it is recommended to use sourceTensor.clone().detach() or sourceTensor.clone().detach().requires_grad_(True), rather than torch.tensor(sourceTensor).\n",
      "  self.best_x = torch.tensor(initial_X[self.Y.argmin()], dtype=torch.double)\n"
     ]
    }
   ],
   "execution_count": 12
  },
  {
   "cell_type": "code",
   "source": [
    "try:\n",
    "  with tqdm.notebook.tqdm(total=100, bar_format=TQDM_BAR_FORMAT) as pbar:\n",
    "    with io.capture_output() as captured:\n",
    "      dropout_mix_best_x , dropout_mix_best_f = dropout_bo_mix.optimize(n_iter)\n",
    "      pbar.update(20)\n",
    "      dropout_copy_best_x , dropout_copy_best_f = dropout_bo_copy.optimize(n_iter)\n",
    "      pbar.update(20)\n",
    "      dropout_random_best_x , dropout_random_best_f = dropout_bo_random.optimize(n_iter)\n",
    "      pbar.update(20)\n",
    "      rembo_best_x, rembo_best_f = rembo.optimize(n_iter)\n",
    "      pbar.update(20) \n",
    "      dropout_bandit_best_x, dropout_bandit_best_f = dropout_bandit.optimize(n_iter)\n",
    "      pbar.update(10)\n",
    "      dropout_bandit_bc_ucb_best_x, dropout_bandit_bc_ucb_best_f = dropout_bandit_bc_ucb.optimize(n_iter)\n",
    "      pbar.update(10)\n",
    "    \n",
    "except subprocess.CalledProcessError:\n",
    "  print(captured)\n",
    "  raise"
   ],
   "metadata": {
    "colab": {
     "base_uri": "https://localhost:8080/"
    },
    "id": "HbTD7Vr8BaU1",
    "outputId": "79b7b8af-12e7-4f18-8e72-b7c53c8da3fe",
    "ExecuteTime": {
     "end_time": "2024-07-31T11:36:03.889140Z",
     "start_time": "2024-07-31T11:29:23.607981Z"
    }
   },
   "outputs": [
    {
     "data": {
      "text/plain": [
       "  0%|          | 0/100 [elapsed: 00:00 remaining: ?]"
      ],
      "application/vnd.jupyter.widget-view+json": {
       "version_major": 2,
       "version_minor": 0,
       "model_id": "d7dba187075f4dedaba0cb392f635bdf"
      }
     },
     "metadata": {},
     "output_type": "display_data"
    }
   ],
   "execution_count": 13
  },
  {
   "metadata": {},
   "cell_type": "markdown",
   "source": "## Dropout_Banditのimprovementのプロット"
  },
  {
   "metadata": {
    "ExecuteTime": {
     "end_time": "2024-07-31T11:36:04.013325Z",
     "start_time": "2024-07-31T11:36:03.890146Z"
    }
   },
   "cell_type": "code",
   "source": [
    "plt.figure(figsize=(10, 6))\n",
    "plt.plot(range(len(dropout_bandit.improvement_history)), dropout_bandit.improvement_history, label='Dropout-Bandit')\n",
    "plt.plot(range(len(dropout_bandit_bc_ucb.improvement_history)), dropout_bandit_bc_ucb.improvement_history, label='Dropout-Bandit-BC-UCB')\n",
    "plt.xlabel('Iteration')\n",
    "plt.ylabel('Improvement')\n",
    "plt.title('Improvement vs Iteration')\n",
    "plt.legend()\n",
    "plt.grid(True)\n",
    "plt.show()"
   ],
   "outputs": [
    {
     "data": {
      "text/plain": [
       "<Figure size 1000x600 with 1 Axes>"
      ],
      "image/png": "[encoded data removed]"
     },
     "metadata": {},
     "output_type": "display_data"
    }
   ],
   "execution_count": 14
  },
  {
   "cell_type": "markdown",
   "source": [
    "# 結果のプロット"
   ],
   "metadata": {
    "id": "b046tAbcBxyU"
   }
  },
  {
   "cell_type": "code",
   "source": [
    "plt.figure(figsize=(12, 8))\n",
    "plt.plot(range(1, n_initial + n_iter + 1), dropout_bo_mix.eval_history, label='Dropout-Mix BO')\n",
    "plt.plot(range(1, n_initial + n_iter + 1), dropout_bo_copy.eval_history, label='Dropout-Copy BO')\n",
    "plt.plot(range(1, n_initial + n_iter + 1), dropout_bo_random.eval_history, label='Dropout-Random BO')\n",
    "plt.plot(range(1, n_initial + n_iter + 1), rembo.eval_history, label='REMBO')\n",
    "plt.plot(range(1, n_initial + n_iter + 1), dropout_bandit.eval_history, label='Dropout-Bandit BO')\n",
    "plt.plot(range(1, n_initial + n_iter + 1), dropout_bandit_bc_ucb.eval_history, label='Dropout-Bandit-BC-UCB BO')\n",
    "plt.axhline(y=global_optimum, color='r', linestyle='--', label='Global Optimum')\n",
    "plt.xlabel('Iteration')\n",
    "plt.ylabel('Best Function Value')\n",
    "plt.title('Comparison of Optimization Algorithms　for Rosenbrock Function')\n",
    "plt.legend()\n",
    "plt.yscale('symlog')\n",
    "plt.grid(True)\n",
    "plt.show()"
   ],
   "metadata": {
    "colab": {
     "base_uri": "https://localhost:8080/",
     "height": 718
    },
    "id": "4nCY_jN2BveQ",
    "outputId": "4ec6730f-0ad0-4e71-a860-3cc0e3205a28",
    "ExecuteTime": {
     "end_time": "2024-07-31T11:36:04.215191Z",
     "start_time": "2024-07-31T11:36:04.013325Z"
    }
   },
   "outputs": [
    {
     "name": "stderr",
     "output_type": "stream",
     "text": [
      "C:\\Users\\nomuyu\\Documents\\baysian_optimization\\.venv\\Lib\\site-packages\\IPython\\core\\pylabtools.py:170: UserWarning: Glyph 12288 (\\N{IDEOGRAPHIC SPACE}) missing from font(s) DejaVu Sans.\n",
      "  fig.canvas.print_figure(bytes_io, **kw)\n"
     ]
    },
    {
     "data": {
      "text/plain": [
       "<Figure size 1200x800 with 1 Axes>"
      ],
      "image/png": "[encoded data removed]"
     },
     "metadata": {},
     "output_type": "display_data"
    }
   ],
   "execution_count": 15
  },
  {
   "metadata": {},
   "cell_type": "markdown",
   "source": ""
  },
  {
   "metadata": {},
   "cell_type": "markdown",
   "source": "# Styblinski-Tang関数を使うver"
  },
  {
   "metadata": {
    "ExecuteTime": {
     "end_time": "2024-07-31T11:36:04.220151Z",
     "start_time": "2024-07-31T11:36:04.216194Z"
    }
   },
   "cell_type": "code",
   "source": [
    "def styblinski_tang(x):\n",
    "    return 0.5 * torch.sum(x ** 4 - 16 * x ** 2 + 5 * x, dim=-1)"
   ],
   "outputs": [],
   "execution_count": 16
  },
  {
   "metadata": {
    "ExecuteTime": {
     "end_time": "2024-07-31T11:36:04.228058Z",
     "start_time": "2024-07-31T11:36:04.222156Z"
    }
   },
   "cell_type": "code",
   "source": "global_optimum = -39.16599 * 25",
   "outputs": [],
   "execution_count": 17
  },
  {
   "metadata": {},
   "cell_type": "markdown",
   "source": ""
  },
  {
   "metadata": {},
   "cell_type": "markdown",
   "source": "# 最適化の実行"
  },
  {
   "metadata": {
    "ExecuteTime": {
     "end_time": "2024-07-31T11:36:04.234753Z",
     "start_time": "2024-07-31T11:36:04.229062Z"
    }
   },
   "cell_type": "code",
   "source": [
    "dropout_bo_mix = DropoutMixBO(dim, active_dim, bounds, n_initial, styblinski_tang, dropout_prob=0.1)\n",
    "dropout_bo_copy = DropoutMixBO(dim, active_dim, bounds, n_initial, styblinski_tang, dropout_prob=0.0)\n",
    "dropout_bo_random = DropoutMixBO(dim, active_dim, bounds, n_initial, styblinski_tang, dropout_prob=1.0)\n",
    "dropout_bandit = DropoutMixBO_Bandit(dim, active_dim, bounds, n_initial, styblinski_tang, dropout_prob=0.0)\n",
    "dropout_bandit_bc_ucb = DropoutMixBO_BC_UCB(dim, active_dim, bounds, n_initial, styblinski_tang, dropout_prob=0.0)\n",
    "rembo = REMBO(dim, active_dim, bounds, n_initial, styblinski_tang)"
   ],
   "outputs": [
    {
     "name": "stderr",
     "output_type": "stream",
     "text": [
      "C:\\Users\\nomuyu\\AppData\\Local\\Temp\\ipykernel_35244\\3789012156.py:15: UserWarning: To copy construct from a tensor, it is recommended to use sourceTensor.clone().detach() or sourceTensor.clone().detach().requires_grad_(True), rather than torch.tensor(sourceTensor).\n",
      "  self.Y = torch.tensor(initial_Y, dtype=torch.double)\n",
      "C:\\Users\\nomuyu\\AppData\\Local\\Temp\\ipykernel_35244\\3789012156.py:18: UserWarning: To copy construct from a tensor, it is recommended to use sourceTensor.clone().detach() or sourceTensor.clone().detach().requires_grad_(True), rather than torch.tensor(sourceTensor).\n",
      "  self.best_x = torch.tensor(initial_X[self.Y.argmin()], dtype=torch.double)\n",
      "C:\\Users\\nomuyu\\AppData\\Local\\Temp\\ipykernel_35244\\395105188.py:15: UserWarning: To copy construct from a tensor, it is recommended to use sourceTensor.clone().detach() or sourceTensor.clone().detach().requires_grad_(True), rather than torch.tensor(sourceTensor).\n",
      "  self.Y = torch.tensor(initial_Y, dtype=torch.double)\n",
      "C:\\Users\\nomuyu\\AppData\\Local\\Temp\\ipykernel_35244\\395105188.py:18: UserWarning: To copy construct from a tensor, it is recommended to use sourceTensor.clone().detach() or sourceTensor.clone().detach().requires_grad_(True), rather than torch.tensor(sourceTensor).\n",
      "  self.best_x = torch.tensor(initial_X[self.Y.argmin()], dtype=torch.double)\n"
     ]
    }
   ],
   "execution_count": 18
  },
  {
   "metadata": {
    "ExecuteTime": {
     "end_time": "2024-07-31T11:45:48.467941Z",
     "start_time": "2024-07-31T11:36:04.234753Z"
    }
   },
   "cell_type": "code",
   "source": [
    "try:\n",
    "  with tqdm.notebook.tqdm(total=100, bar_format=TQDM_BAR_FORMAT) as pbar:\n",
    "    with io.capture_output() as captured:\n",
    "      dropout_mix_best_x , dropout_mix_best_f = dropout_bo_mix.optimize(n_iter)\n",
    "      pbar.update(20)\n",
    "      dropout_copy_best_x , dropout_copy_best_f = dropout_bo_copy.optimize(n_iter)\n",
    "      pbar.update(20)\n",
    "      dropout_random_best_x , dropout_random_best_f = dropout_bo_random.optimize(n_iter)\n",
    "      pbar.update(20)\n",
    "      rembo_best_x, rembo_best_f = rembo.optimize(n_iter)\n",
    "      pbar.update(20) \n",
    "      dropout_bandit_best_x, dropout_bandit_best_f = dropout_bandit.optimize(n_iter)\n",
    "      pbar.update(10)\n",
    "      dropout_bandit_bc_ucb_best_x, dropout_bandit_bc_ucb_best_f = dropout_bandit_bc_ucb.optimize(n_iter)\n",
    "      pbar.update(10)\n",
    "    \n",
    "except subprocess.CalledProcessError:\n",
    "  print(captured)\n",
    "  raise"
   ],
   "outputs": [
    {
     "data": {
      "text/plain": [
       "  0%|          | 0/100 [elapsed: 00:00 remaining: ?]"
      ],
      "application/vnd.jupyter.widget-view+json": {
       "version_major": 2,
       "version_minor": 0,
       "model_id": "520e2e5a20084830b524186594bbb448"
      }
     },
     "metadata": {},
     "output_type": "display_data"
    }
   ],
   "execution_count": 19
  },
  {
   "metadata": {},
   "cell_type": "markdown",
   "source": "## Dropout-Banditのimprovementのプロット"
  },
  {
   "metadata": {
    "ExecuteTime": {
     "end_time": "2024-07-31T11:45:48.534124Z",
     "start_time": "2024-07-31T11:45:48.467941Z"
    }
   },
   "cell_type": "code",
   "source": [
    "plt.figure(figsize=(10, 6))\n",
    "plt.plot(range(len(dropout_bandit.improvement_history)), dropout_bandit.improvement_history, label='Dropout-Bandit')\n",
    "plt.plot(range(len(dropout_bandit_bc_ucb.improvement_history)), dropout_bandit_bc_ucb.improvement_history, label='Dropout-Bandit-BC-UCB')\n",
    "plt.xlabel('Iteration')\n",
    "plt.ylabel('Improvement')\n",
    "plt.title('Improvement vs Iteration')\n",
    "plt.legend()\n",
    "plt.grid(True)\n",
    "plt.show()"
   ],
   "outputs": [
    {
     "data": {
      "text/plain": [
       "<Figure size 1000x600 with 1 Axes>"
      ],
      "image/png": "[encoded data removed]"
     },
     "metadata": {},
     "output_type": "display_data"
    }
   ],
   "execution_count": 20
  },
  {
   "metadata": {},
   "cell_type": "markdown",
   "source": "# 結果のプロット"
  },
  {
   "metadata": {
    "ExecuteTime": {
     "end_time": "2024-07-31T11:45:48.617629Z",
     "start_time": "2024-07-31T11:45:48.534124Z"
    }
   },
   "cell_type": "code",
   "source": [
    "plt.figure(figsize=(12, 8))\n",
    "plt.plot(range(1, n_initial + n_iter + 1), dropout_bo_mix.eval_history, label='Dropout-Mix BO')\n",
    "plt.plot(range(1, n_initial + n_iter + 1), dropout_bo_copy.eval_history, label='Dropout-Copy BO')\n",
    "plt.plot(range(1, n_initial + n_iter + 1), dropout_bo_random.eval_history, label='Dropout-Random BO')\n",
    "plt.plot(range(1, n_initial + n_iter + 1), rembo.eval_history, label='REMBO')\n",
    "plt.plot(range(1, n_initial + n_iter + 1), dropout_bandit.eval_history, label='Dropout-Bandit BO')\n",
    "plt.plot(range(1, n_initial + n_iter + 1), dropout_bandit_bc_ucb.eval_history, label='Dropout-Bandit-BC-UCB BO')\n",
    "plt.axhline(y=global_optimum, color='r', linestyle='--', label='Global Optimum')\n",
    "plt.xlabel('Iteration')\n",
    "plt.ylabel('Best Function Value')\n",
    "plt.title('Comparison of Optimization Algorithms for Styblinski-Tang Function')\n",
    "plt.legend()\n",
    "plt.yscale('symlog')\n",
    "plt.grid(True)\n",
    "plt.show()"
   ],
   "outputs": [
    {
     "data": {
      "text/plain": [
       "<Figure size 1200x800 with 1 Axes>"
      ],
      "image/png": "[encoded data removed]"
     },
     "metadata": {},
     "output_type": "display_data"
    }
   ],
   "execution_count": 21
  }
 ]
}
