{
 "cells": [
  {
   "cell_type": "code",
   "id": "initial_id",
   "metadata": {
    "collapsed": true,
    "ExecuteTime": {
     "end_time": "2024-09-19T13:11:18.832680Z",
     "start_time": "2024-09-19T13:11:18.829605Z"
    }
   },
   "source": [
    "from IPython.utils import io\n",
    "import os\n",
    "import subprocess\n",
    "import tqdm.notebook\n",
    "\n",
    "TQDM_BAR_FORMAT = '{l_bar}{bar}| {n_fmt}/{total_fmt} [elapsed: {elapsed} remaining: {remaining}]'\n"
   ],
   "outputs": [],
   "execution_count": 45
  },
  {
   "metadata": {
    "ExecuteTime": {
     "end_time": "2024-09-19T13:11:18.837552Z",
     "start_time": "2024-09-19T13:11:18.834683Z"
    }
   },
   "cell_type": "code",
   "source": [
    "import torch\n",
    "from botorch import fit_gpytorch_model\n",
    "from botorch.acquisition import UpperConfidenceBound\n",
    "from botorch.models import SingleTaskGP\n",
    "from botorch.optim import optimize_acqf\n",
    "from gpytorch.mlls import ExactMarginalLogLikelihood\n",
    "from gpytorch.kernels import RBFKernel, ScaleKernel\n",
    "import numpy as np\n",
    "import pandas as pd\n",
    "from scipy.special import softmax\n",
    "import matplotlib.pyplot as plt\n",
    "import seaborn as sns\n",
    "from botorch.models import SaasFullyBayesianSingleTaskGP\n",
    "from gpytorch.kernels import MaternKernel, ScaleKernel\n",
    "from botorch.acquisition import ExpectedImprovement\n",
    "from gpytorch import constraints\n",
    "\n"
   ],
   "id": "e2dfb5cfb6da24ae",
   "outputs": [],
   "execution_count": 46
  },
  {
   "metadata": {
    "ExecuteTime": {
     "end_time": "2024-09-19T13:11:18.839804Z",
     "start_time": "2024-09-19T13:11:18.837552Z"
    }
   },
   "cell_type": "code",
   "source": "",
   "id": "e8a2c8f0a8fcc8d",
   "outputs": [],
   "execution_count": 46
  },
  {
   "metadata": {
    "ExecuteTime": {
     "end_time": "2024-09-19T13:11:18.842060Z",
     "start_time": "2024-09-19T13:11:18.839804Z"
    }
   },
   "cell_type": "code",
   "source": [
    "def styblinski_tang(x):\n",
    "    return 0.5 * torch.sum(x ** 4 - 16 * x ** 2 + 5 * x, dim=-1)"
   ],
   "id": "5f1fe32975b825c0",
   "outputs": [],
   "execution_count": 47
  },
  {
   "metadata": {
    "ExecuteTime": {
     "end_time": "2024-09-19T13:11:18.844272Z",
     "start_time": "2024-09-19T13:11:18.842060Z"
    }
   },
   "cell_type": "code",
   "source": [
    "# styblinski_tang関数の最適解\n",
    "global_optimum = -39.16599 * 5"
   ],
   "id": "811c935cb5893200",
   "outputs": [],
   "execution_count": 48
  },
  {
   "metadata": {
    "ExecuteTime": {
     "end_time": "2024-09-19T13:11:18.846784Z",
     "start_time": "2024-09-19T13:11:18.844272Z"
    }
   },
   "cell_type": "code",
   "source": [
    "def generate_initial_points(n_initial, dim, bounds):\n",
    "    return torch.rand(n_initial, dim) * (bounds[:, 1] - bounds[:, 0]) + bounds[:, 0]"
   ],
   "id": "aae1ce0ed6499873",
   "outputs": [],
   "execution_count": 49
  },
  {
   "metadata": {
    "ExecuteTime": {
     "end_time": "2024-09-19T13:11:18.849788Z",
     "start_time": "2024-09-19T13:11:18.846784Z"
    }
   },
   "cell_type": "code",
   "source": [
    "def create_model(train_X, train_Y):\n",
    "    kernel = ScaleKernel(RBFKernel(ard_num_dims=train_X.shape[-1], noise_constraint=1e-5))\n",
    "    model = SingleTaskGP(train_X, train_Y, covar_module=kernel)\n",
    "    return model"
   ],
   "id": "9b946c36c0a669df",
   "outputs": [],
   "execution_count": 50
  },
  {
   "metadata": {
    "ExecuteTime": {
     "end_time": "2024-09-19T13:11:18.853117Z",
     "start_time": "2024-09-19T13:11:18.849788Z"
    }
   },
   "cell_type": "code",
   "source": [
    "def compute_kernel_complexity_metrics(model, X):\n",
    "    # カーネル行列の計算\n",
    "    with torch.no_grad():\n",
    "        K = model.covar_module(X).evaluate().cpu().numpy()\n",
    "    \n",
    "    # 単位行列との差のフロベニウスノルム\n",
    "    I = np.eye(K.shape[0])\n",
    "    frobenius_norm = np.linalg.norm(K - I, 'fro')\n",
    "    \n",
    "    # 条件数\n",
    "    condition_number = np.linalg.cond(K)\n",
    "    \n",
    "    # 固有値\n",
    "    eigenvalues = np.linalg.eigvalsh(K)\n",
    "    \n",
    "    # トレースノルム\n",
    "    trace_norm = np.sum(np.abs(eigenvalues))\n",
    "    \n",
    "    # エントロピー\n",
    "    normalized_eigenvalues = eigenvalues / np.sum(eigenvalues)\n",
    "    entropy = -np.sum(normalized_eigenvalues * np.log(normalized_eigenvalues + 1e-10))\n",
    "    \n",
    "    return {\n",
    "        'frobenius_norm': frobenius_norm,\n",
    "        'condition_number': condition_number,\n",
    "        'eigenvalue_range': (np.min(eigenvalues), np.max(eigenvalues)),\n",
    "        'trace_norm': trace_norm,\n",
    "        'entropy': entropy\n",
    "    }"
   ],
   "id": "6163de08cc031317",
   "outputs": [],
   "execution_count": 51
  },
  {
   "metadata": {
    "ExecuteTime": {
     "end_time": "2024-09-19T13:11:18.856733Z",
     "start_time": "2024-09-19T13:11:18.853117Z"
    }
   },
   "cell_type": "code",
   "source": [
    "class BasicBO:\n",
    "    def __init__(self, dim, bounds, n_initial, obj_function):\n",
    "        self.dim = dim\n",
    "        self.bounds = bounds\n",
    "        self.obj_function = obj_function\n",
    "        self.X = generate_initial_points(n_initial, dim, bounds).double()\n",
    "        self.Y = self.obj_function(self.X).double().unsqueeze(-1)\n",
    "        self.best_f = self.Y.min().item()\n",
    "        self.best_x = self.X[self.Y.argmin()]\n",
    "        self.eval_history = [self.best_f] * n_initial\n",
    "        self.kernel_complexity_history = []\n",
    "\n",
    "    def optimize(self, n_iter):\n",
    "        for _ in range(n_iter):\n",
    "            model = create_model(self.X, self.Y)\n",
    "            mll = ExactMarginalLogLikelihood(model.likelihood, model)\n",
    "            fit_gpytorch_model(mll)\n",
    "            \n",
    "            metrics = compute_kernel_complexity_metrics(model, self.X)\n",
    "            self.kernel_complexity_history.append(metrics)\n",
    "\n",
    "            EI = ExpectedImprovement(model, best_f=self.best_f, maximize=False)\n",
    "            \n",
    "            candidate, _ = optimize_acqf(\n",
    "                EI, bounds=self.bounds, q=1, num_restarts=10, raw_samples=100,\n",
    "            )\n",
    "\n",
    "            x_new = candidate.squeeze()\n",
    "            y_new = self.obj_function(x_new.unsqueeze(0)).double().unsqueeze(-1)\n",
    "\n",
    "            self.X = torch.cat([self.X, x_new.unsqueeze(0)])\n",
    "            self.Y = torch.cat([self.Y, y_new])\n",
    "\n",
    "            if y_new < self.best_f:\n",
    "                self.best_f = y_new.item()\n",
    "                self.best_x = x_new\n",
    "\n",
    "            self.eval_history.append(self.best_f)\n",
    "\n",
    "        return self.best_x, self.best_f"
   ],
   "id": "51a2eb95a4dbaca7",
   "outputs": [],
   "execution_count": 52
  },
  {
   "metadata": {
    "ExecuteTime": {
     "end_time": "2024-09-19T13:11:18.861100Z",
     "start_time": "2024-09-19T13:11:18.856733Z"
    }
   },
   "cell_type": "code",
   "source": [
    "def run_optimization_for_dimensions(dims, bounds, n_initial, n_iter, obj_function):\n",
    "    results = []\n",
    "    for dim in dims:\n",
    "        print(f\"Running optimization for dimension {dim}\")\n",
    "        bounds_dim = torch.stack([torch.tensor([bounds[0]] * dim), torch.tensor([bounds[1]] * dim)]).double()\n",
    "        optimizer = BasicBO(dim, bounds_dim, n_initial, obj_function)\n",
    "        best_x, best_f = optimizer.optimize(n_iter)\n",
    "        results.append({\n",
    "            'dim': dim,\n",
    "            'best_f': best_f,\n",
    "            'history': optimizer.kernel_complexity_history\n",
    "        })\n",
    "    return results\n",
    "\n",
    "def plot_multi_dim_kernel_complexity(results):\n",
    "    metrics = ['frobenius_norm', 'condition_number', 'trace_norm', 'entropy']\n",
    "    fig, axes = plt.subplots(2, 2, figsize=(20, 15))\n",
    "    fig.suptitle('Kernel Complexity Metrics Over Iterations for Different Dimensions')\n",
    "\n",
    "    for i, metric in enumerate(metrics):\n",
    "        ax = axes[i // 2, i % 2]\n",
    "        for result in results:\n",
    "            dim = result['dim']\n",
    "            values = [m[metric] for m in result['history']]\n",
    "            sns.lineplot(x=range(len(values)), y=values, ax=ax, label=f'Dim {dim}')\n",
    "        ax.set_title(metric.replace('_', ' ').capitalize())\n",
    "        ax.set_xlabel('Iteration')\n",
    "        ax.set_ylabel('Value')\n",
    "        ax.legend()\n",
    "\n",
    "    plt.tight_layout()\n",
    "    plt.show()\n",
    "\n",
    "def plot_multi_dim_eigenvalue_range(results):\n",
    "    fig, ax = plt.subplots(figsize=(15, 10))\n",
    "    for result in results:\n",
    "        dim = result['dim']\n",
    "        min_eigenvalues = [m['eigenvalue_range'][0] for m in result['history']]\n",
    "        max_eigenvalues = [m['eigenvalue_range'][1] for m in result['history']]\n",
    "        ax.fill_between(range(len(min_eigenvalues)), min_eigenvalues, max_eigenvalues, alpha=0.3, label=f'Dim {dim}')\n",
    "        ax.plot(range(len(min_eigenvalues)), min_eigenvalues, label=f'Min Eigenvalue (Dim {dim})')\n",
    "        ax.plot(range(len(max_eigenvalues)), max_eigenvalues, label=f'Max Eigenvalue (Dim {dim})')\n",
    "    ax.set_title('Eigenvalue Range Over Iterations for Different Dimensions')\n",
    "    ax.set_xlabel('Iteration')\n",
    "    ax.set_ylabel('Eigenvalue')\n",
    "    ax.legend()\n",
    "    plt.show()"
   ],
   "id": "f188e35216e7b3c0",
   "outputs": [],
   "execution_count": 53
  },
  {
   "metadata": {
    "ExecuteTime": {
     "end_time": "2024-09-19T13:11:18.863663Z",
     "start_time": "2024-09-19T13:11:18.861100Z"
    }
   },
   "cell_type": "code",
   "source": [
    "# メイン実行部分\n",
    "dims = [5, 10, 15, 20]\n",
    "bounds = [-5.0, 5.0]\n",
    "n_initial = 20\n",
    "n_iter = 50"
   ],
   "id": "355218d2e855225f",
   "outputs": [],
   "execution_count": 54
  },
  {
   "metadata": {
    "ExecuteTime": {
     "end_time": "2024-09-19T13:11:18.886251Z",
     "start_time": "2024-09-19T13:11:18.863663Z"
    }
   },
   "cell_type": "code",
   "source": "results = run_optimization_for_dimensions(dims, bounds, n_initial, n_iter, styblinski_tang)",
   "id": "db09879e4f46c98",
   "outputs": [
    {
     "name": "stdout",
     "output_type": "stream",
     "text": [
      "Running optimization for dimension 5\n"
     ]
    },
    {
     "ename": "RuntimeError",
     "evalue": "The size of tensor a (5) must match the size of tensor b (2) at non-singleton dimension 1",
     "output_type": "error",
     "traceback": [
      "\u001B[1;31m---------------------------------------------------------------------------\u001B[0m",
      "\u001B[1;31mRuntimeError\u001B[0m                              Traceback (most recent call last)",
      "Cell \u001B[1;32mIn[55], line 1\u001B[0m\n\u001B[1;32m----> 1\u001B[0m results \u001B[38;5;241m=\u001B[39m \u001B[43mrun_optimization_for_dimensions\u001B[49m\u001B[43m(\u001B[49m\u001B[43mdims\u001B[49m\u001B[43m,\u001B[49m\u001B[43m \u001B[49m\u001B[43mbounds\u001B[49m\u001B[43m,\u001B[49m\u001B[43m \u001B[49m\u001B[43mn_initial\u001B[49m\u001B[43m,\u001B[49m\u001B[43m \u001B[49m\u001B[43mn_iter\u001B[49m\u001B[43m,\u001B[49m\u001B[43m \u001B[49m\u001B[43mstyblinski_tang\u001B[49m\u001B[43m)\u001B[49m\n",
      "Cell \u001B[1;32mIn[53], line 6\u001B[0m, in \u001B[0;36mrun_optimization_for_dimensions\u001B[1;34m(dims, bounds, n_initial, n_iter, obj_function)\u001B[0m\n\u001B[0;32m      4\u001B[0m \u001B[38;5;28mprint\u001B[39m(\u001B[38;5;124mf\u001B[39m\u001B[38;5;124m\"\u001B[39m\u001B[38;5;124mRunning optimization for dimension \u001B[39m\u001B[38;5;132;01m{\u001B[39;00mdim\u001B[38;5;132;01m}\u001B[39;00m\u001B[38;5;124m\"\u001B[39m)\n\u001B[0;32m      5\u001B[0m bounds_dim \u001B[38;5;241m=\u001B[39m torch\u001B[38;5;241m.\u001B[39mstack([torch\u001B[38;5;241m.\u001B[39mtensor([bounds[\u001B[38;5;241m0\u001B[39m]] \u001B[38;5;241m*\u001B[39m dim), torch\u001B[38;5;241m.\u001B[39mtensor([bounds[\u001B[38;5;241m1\u001B[39m]] \u001B[38;5;241m*\u001B[39m dim)])\u001B[38;5;241m.\u001B[39mdouble()\n\u001B[1;32m----> 6\u001B[0m optimizer \u001B[38;5;241m=\u001B[39m \u001B[43mBasicBO\u001B[49m\u001B[43m(\u001B[49m\u001B[43mdim\u001B[49m\u001B[43m,\u001B[49m\u001B[43m \u001B[49m\u001B[43mbounds_dim\u001B[49m\u001B[43m,\u001B[49m\u001B[43m \u001B[49m\u001B[43mn_initial\u001B[49m\u001B[43m,\u001B[49m\u001B[43m \u001B[49m\u001B[43mobj_function\u001B[49m\u001B[43m)\u001B[49m\n\u001B[0;32m      7\u001B[0m best_x, best_f \u001B[38;5;241m=\u001B[39m optimizer\u001B[38;5;241m.\u001B[39moptimize(n_iter)\n\u001B[0;32m      8\u001B[0m results\u001B[38;5;241m.\u001B[39mappend({\n\u001B[0;32m      9\u001B[0m     \u001B[38;5;124m'\u001B[39m\u001B[38;5;124mdim\u001B[39m\u001B[38;5;124m'\u001B[39m: dim,\n\u001B[0;32m     10\u001B[0m     \u001B[38;5;124m'\u001B[39m\u001B[38;5;124mbest_f\u001B[39m\u001B[38;5;124m'\u001B[39m: best_f,\n\u001B[0;32m     11\u001B[0m     \u001B[38;5;124m'\u001B[39m\u001B[38;5;124mhistory\u001B[39m\u001B[38;5;124m'\u001B[39m: optimizer\u001B[38;5;241m.\u001B[39mkernel_complexity_history\n\u001B[0;32m     12\u001B[0m })\n",
      "Cell \u001B[1;32mIn[52], line 6\u001B[0m, in \u001B[0;36mBasicBO.__init__\u001B[1;34m(self, dim, bounds, n_initial, obj_function)\u001B[0m\n\u001B[0;32m      4\u001B[0m \u001B[38;5;28mself\u001B[39m\u001B[38;5;241m.\u001B[39mbounds \u001B[38;5;241m=\u001B[39m bounds\n\u001B[0;32m      5\u001B[0m \u001B[38;5;28mself\u001B[39m\u001B[38;5;241m.\u001B[39mobj_function \u001B[38;5;241m=\u001B[39m obj_function\n\u001B[1;32m----> 6\u001B[0m \u001B[38;5;28mself\u001B[39m\u001B[38;5;241m.\u001B[39mX \u001B[38;5;241m=\u001B[39m \u001B[43mgenerate_initial_points\u001B[49m\u001B[43m(\u001B[49m\u001B[43mn_initial\u001B[49m\u001B[43m,\u001B[49m\u001B[43m \u001B[49m\u001B[43mdim\u001B[49m\u001B[43m,\u001B[49m\u001B[43m \u001B[49m\u001B[43mbounds\u001B[49m\u001B[43m)\u001B[49m\u001B[38;5;241m.\u001B[39mdouble()\n\u001B[0;32m      7\u001B[0m \u001B[38;5;28mself\u001B[39m\u001B[38;5;241m.\u001B[39mY \u001B[38;5;241m=\u001B[39m \u001B[38;5;28mself\u001B[39m\u001B[38;5;241m.\u001B[39mobj_function(\u001B[38;5;28mself\u001B[39m\u001B[38;5;241m.\u001B[39mX)\u001B[38;5;241m.\u001B[39mdouble()\u001B[38;5;241m.\u001B[39munsqueeze(\u001B[38;5;241m-\u001B[39m\u001B[38;5;241m1\u001B[39m)\n\u001B[0;32m      8\u001B[0m \u001B[38;5;28mself\u001B[39m\u001B[38;5;241m.\u001B[39mbest_f \u001B[38;5;241m=\u001B[39m \u001B[38;5;28mself\u001B[39m\u001B[38;5;241m.\u001B[39mY\u001B[38;5;241m.\u001B[39mmin()\u001B[38;5;241m.\u001B[39mitem()\n",
      "Cell \u001B[1;32mIn[49], line 2\u001B[0m, in \u001B[0;36mgenerate_initial_points\u001B[1;34m(n_initial, dim, bounds)\u001B[0m\n\u001B[0;32m      1\u001B[0m \u001B[38;5;28;01mdef\u001B[39;00m \u001B[38;5;21mgenerate_initial_points\u001B[39m(n_initial, dim, bounds):\n\u001B[1;32m----> 2\u001B[0m     \u001B[38;5;28;01mreturn\u001B[39;00m \u001B[43mtorch\u001B[49m\u001B[38;5;241;43m.\u001B[39;49m\u001B[43mrand\u001B[49m\u001B[43m(\u001B[49m\u001B[43mn_initial\u001B[49m\u001B[43m,\u001B[49m\u001B[43m \u001B[49m\u001B[43mdim\u001B[49m\u001B[43m)\u001B[49m\u001B[43m \u001B[49m\u001B[38;5;241;43m*\u001B[39;49m\u001B[43m \u001B[49m\u001B[43m(\u001B[49m\u001B[43mbounds\u001B[49m\u001B[43m[\u001B[49m\u001B[43m:\u001B[49m\u001B[43m,\u001B[49m\u001B[43m \u001B[49m\u001B[38;5;241;43m1\u001B[39;49m\u001B[43m]\u001B[49m\u001B[43m \u001B[49m\u001B[38;5;241;43m-\u001B[39;49m\u001B[43m \u001B[49m\u001B[43mbounds\u001B[49m\u001B[43m[\u001B[49m\u001B[43m:\u001B[49m\u001B[43m,\u001B[49m\u001B[43m \u001B[49m\u001B[38;5;241;43m0\u001B[39;49m\u001B[43m]\u001B[49m\u001B[43m)\u001B[49m \u001B[38;5;241m+\u001B[39m bounds[:, \u001B[38;5;241m0\u001B[39m]\n",
      "\u001B[1;31mRuntimeError\u001B[0m: The size of tensor a (5) must match the size of tensor b (2) at non-singleton dimension 1"
     ]
    }
   ],
   "execution_count": 55
  },
  {
   "metadata": {
    "ExecuteTime": {
     "end_time": "2024-09-19T13:11:18.899194Z",
     "start_time": "2024-09-19T13:11:18.891254Z"
    }
   },
   "cell_type": "code",
   "source": [
    "# グラフの表示\n",
    "plot_multi_dim_kernel_complexity(results)\n",
    "plot_multi_dim_eigenvalue_range(results)"
   ],
   "id": "874fd3601172f2f5",
   "outputs": [
    {
     "ename": "NameError",
     "evalue": "name 'results' is not defined",
     "output_type": "error",
     "traceback": [
      "\u001B[1;31m---------------------------------------------------------------------------\u001B[0m",
      "\u001B[1;31mNameError\u001B[0m                                 Traceback (most recent call last)",
      "Cell \u001B[1;32mIn[56], line 2\u001B[0m\n\u001B[0;32m      1\u001B[0m \u001B[38;5;66;03m# グラフの表示\u001B[39;00m\n\u001B[1;32m----> 2\u001B[0m plot_multi_dim_kernel_complexity(\u001B[43mresults\u001B[49m)\n\u001B[0;32m      3\u001B[0m plot_multi_dim_eigenvalue_range(results)\n",
      "\u001B[1;31mNameError\u001B[0m: name 'results' is not defined"
     ]
    }
   ],
   "execution_count": 56
  }
 ],
 "metadata": {
  "kernelspec": {
   "display_name": "Python 3",
   "language": "python",
   "name": "python3"
  },
  "language_info": {
   "codemirror_mode": {
    "name": "ipython",
    "version": 2
   },
   "file_extension": ".py",
   "mimetype": "text/x-python",
   "name": "python",
   "nbconvert_exporter": "python",
   "pygments_lexer": "ipython2",
   "version": "2.7.6"
  }
 },
 "nbformat": 4,
 "nbformat_minor": 5
}
