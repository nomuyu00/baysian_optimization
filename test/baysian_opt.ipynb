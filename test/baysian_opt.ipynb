{
 "cells": [
  {
   "metadata": {
    "ExecuteTime": {
     "end_time": "2024-07-19T11:55:28.007817Z",
     "start_time": "2024-07-19T11:55:27.996355Z"
    }
   },
   "cell_type": "code",
   "source": [
    "import torch\n",
    "from botorch import fit_gpytorch_model\n",
    "from botorch.acquisition import UpperConfidenceBound\n",
    "from botorch.models import SingleTaskGP\n",
    "from botorch.optim import optimize_acqf\n",
    "from gpytorch.mlls import ExactMarginalLogLikelihood\n",
    "from gpytorch.kernels import RBFKernel, ScaleKernel\n",
    "import numpy as np\n",
    "import matplotlib.pyplot as plt"
   ],
   "id": "572ee7f89785e974",
   "outputs": [],
   "execution_count": 134
  },
  {
   "cell_type": "code",
   "id": "initial_id",
   "metadata": {
    "collapsed": true,
    "ExecuteTime": {
     "end_time": "2024-07-19T11:55:28.011333Z",
     "start_time": "2024-07-19T11:55:28.008826Z"
    }
   },
   "source": [
    "def styblinski_tang(x):\n",
    "    return 0.5 * torch.sum(x ** 4 - 16 * x ** 2 + 5 * x, dim=-1)"
   ],
   "outputs": [],
   "execution_count": 135
  },
  {
   "metadata": {
    "ExecuteTime": {
     "end_time": "2024-07-19T11:55:28.033177Z",
     "start_time": "2024-07-19T11:55:28.029904Z"
    }
   },
   "cell_type": "code",
   "source": [
    "def rosenbrock(x):\n",
    "    return torch.sum(100.0 * (x[..., 1:] - x[..., :-1]**2)**2 + (1 - x[..., :-1])**2, dim=-1)"
   ],
   "id": "b4252ba37e8322ee",
   "outputs": [],
   "execution_count": 136
  },
  {
   "metadata": {
    "ExecuteTime": {
     "end_time": "2024-07-19T11:55:28.035939Z",
     "start_time": "2024-07-19T11:55:28.033177Z"
    }
   },
   "cell_type": "code",
   "source": [
    "def generate_initial_points(n_initial, dim, bounds):\n",
    "    return torch.rand(n_initial, dim) * (bounds[1] - bounds[0]) + bounds[0]"
   ],
   "id": "1eb713b7e123f31e",
   "outputs": [],
   "execution_count": 137
  },
  {
   "metadata": {
    "ExecuteTime": {
     "end_time": "2024-07-19T11:55:28.044943Z",
     "start_time": "2024-07-19T11:55:28.041943Z"
    }
   },
   "cell_type": "code",
   "source": [
    "def create_model(train_X, train_Y):\n",
    "    kernel = ScaleKernel(RBFKernel(ard_nim_dims=train_X.shape[-1]))\n",
    "    model = SingleTaskGP(train_X, train_Y, covar_module=kernel)\n",
    "    return model"
   ],
   "id": "325652b1a7e679fe",
   "outputs": [],
   "execution_count": 138
  },
  {
   "metadata": {
    "ExecuteTime": {
     "end_time": "2024-07-19T11:55:28.048047Z",
     "start_time": "2024-07-19T11:55:28.044943Z"
    }
   },
   "cell_type": "code",
   "source": [
    "dim = 25\n",
    "active_dim = 5\n",
    "bounds = torch.tensor([[-5.0] * dim, [5.0] * dim])\n",
    "n_initial = 200\n",
    "n_iter = 100"
   ],
   "id": "88c39cdcfb816cae",
   "outputs": [],
   "execution_count": 139
  },
  {
   "metadata": {
    "ExecuteTime": {
     "end_time": "2024-07-19T11:55:28.051650Z",
     "start_time": "2024-07-19T11:55:28.048047Z"
    }
   },
   "cell_type": "code",
   "source": "X = generate_initial_points(n_initial, dim, bounds)",
   "id": "f2ba651f29d77428",
   "outputs": [],
   "execution_count": 140
  },
  {
   "metadata": {
    "ExecuteTime": {
     "end_time": "2024-07-19T11:55:28.058890Z",
     "start_time": "2024-07-19T11:55:28.051650Z"
    }
   },
   "cell_type": "code",
   "source": "X",
   "id": "bcde1f9ba5df6f35",
   "outputs": [
    {
     "data": {
      "text/plain": [
       "tensor([[-1.4265,  3.6187,  2.8275,  ..., -2.3944,  2.3231, -3.8500],\n",
       "        [-2.7506, -0.1478, -0.9576,  ...,  2.9441,  4.1308, -1.5695],\n",
       "        [-0.9605,  3.6784, -4.4435,  ...,  2.3108,  2.1571,  4.5854],\n",
       "        ...,\n",
       "        [-1.7726,  0.2586,  1.3661,  ..., -3.7704, -2.5124, -0.3962],\n",
       "        [-1.5062, -0.3860, -4.7846,  ...,  1.0546, -1.2210,  0.0640],\n",
       "        [ 4.6166,  4.0198,  2.4448,  ...,  0.2180,  4.1376, -2.1122]])"
      ]
     },
     "execution_count": 141,
     "metadata": {},
     "output_type": "execute_result"
    }
   ],
   "execution_count": 141
  },
  {
   "metadata": {
    "ExecuteTime": {
     "end_time": "2024-07-19T11:55:28.061625Z",
     "start_time": "2024-07-19T11:55:28.058890Z"
    }
   },
   "cell_type": "code",
   "source": "X.shape",
   "id": "cecdfc007a18039",
   "outputs": [
    {
     "data": {
      "text/plain": [
       "torch.Size([200, 25])"
      ]
     },
     "execution_count": 142,
     "metadata": {},
     "output_type": "execute_result"
    }
   ],
   "execution_count": 142
  },
  {
   "metadata": {
    "ExecuteTime": {
     "end_time": "2024-07-19T11:55:28.064990Z",
     "start_time": "2024-07-19T11:55:28.061625Z"
    }
   },
   "cell_type": "code",
   "source": "bounds",
   "id": "6113f50100a61baf",
   "outputs": [
    {
     "data": {
      "text/plain": [
       "tensor([[-5., -5., -5., -5., -5., -5., -5., -5., -5., -5., -5., -5., -5., -5.,\n",
       "         -5., -5., -5., -5., -5., -5., -5., -5., -5., -5., -5.],\n",
       "        [ 5.,  5.,  5.,  5.,  5.,  5.,  5.,  5.,  5.,  5.,  5.,  5.,  5.,  5.,\n",
       "          5.,  5.,  5.,  5.,  5.,  5.,  5.,  5.,  5.,  5.,  5.]])"
      ]
     },
     "execution_count": 143,
     "metadata": {},
     "output_type": "execute_result"
    }
   ],
   "execution_count": 143
  },
  {
   "metadata": {
    "ExecuteTime": {
     "end_time": "2024-07-19T11:55:28.067618Z",
     "start_time": "2024-07-19T11:55:28.065557Z"
    }
   },
   "cell_type": "code",
   "source": "bounds.shape",
   "id": "4eb2231995c9a85b",
   "outputs": [
    {
     "data": {
      "text/plain": [
       "torch.Size([2, 25])"
      ]
     },
     "execution_count": 144,
     "metadata": {},
     "output_type": "execute_result"
    }
   ],
   "execution_count": 144
  },
  {
   "metadata": {
    "ExecuteTime": {
     "end_time": "2024-07-19T11:55:28.070173Z",
     "start_time": "2024-07-19T11:55:28.067618Z"
    }
   },
   "cell_type": "code",
   "source": "Y = styblinski_tang(X)",
   "id": "757706a0afb42134",
   "outputs": [],
   "execution_count": 145
  },
  {
   "metadata": {
    "ExecuteTime": {
     "end_time": "2024-07-19T11:55:28.073473Z",
     "start_time": "2024-07-19T11:55:28.070173Z"
    }
   },
   "cell_type": "code",
   "source": "Y2 = rosenbrock(X)",
   "id": "9de38d4c6b7534c7",
   "outputs": [],
   "execution_count": 146
  },
  {
   "metadata": {
    "ExecuteTime": {
     "end_time": "2024-07-19T11:55:28.078534Z",
     "start_time": "2024-07-19T11:55:28.073473Z"
    }
   },
   "cell_type": "code",
   "source": "Y",
   "id": "c8e435459a82b122",
   "outputs": [
    {
     "data": {
      "text/plain": [
       "tensor([-2.7195e+02, -8.1539e+01, -3.1334e+01, -2.4960e+02, -1.7238e+02,\n",
       "        -3.6939e+02, -1.7872e+02, -4.2487e+01, -2.1778e+02, -2.7685e+02,\n",
       "        -9.6267e+01,  5.6655e+01,  5.9745e+01, -2.7247e+02,  1.2927e+01,\n",
       "         3.8532e+01, -1.7629e+02, -2.0639e+02, -3.3354e+02, -2.9766e+02,\n",
       "         2.6744e+01, -1.2718e+02, -1.3038e+02, -2.1177e+02, -7.3960e+01,\n",
       "        -1.3889e+02, -9.6251e+01,  1.4689e+02,  1.0804e+02, -2.2394e+02,\n",
       "        -9.5190e+01,  4.5726e+01, -1.4050e+02, -3.8173e+02, -9.6370e+01,\n",
       "        -3.4558e+02, -1.1655e+02, -2.8305e+02, -3.2747e+00, -2.0060e+02,\n",
       "        -1.4964e+02,  4.5501e+01, -1.9626e+02, -1.4623e+02,  9.8681e+01,\n",
       "         1.8886e+02, -3.3398e+02, -2.7807e+02, -1.8587e+02, -1.0392e+02,\n",
       "        -1.1030e+02, -1.8506e+02, -8.0112e+00, -2.6396e+02, -2.8902e+02,\n",
       "         1.1684e+01, -1.2868e+02,  5.3657e+01, -2.5322e+02, -5.8316e+01,\n",
       "         1.1291e+02,  7.4419e+01, -1.4484e+02, -1.4255e+02, -1.1948e+02,\n",
       "         8.7495e+01,  3.0754e+02,  1.1937e+02, -3.1808e+02, -1.3376e+02,\n",
       "        -2.3273e+02, -1.7366e+02, -2.4142e+02,  3.8985e+02,  9.1328e+01,\n",
       "         7.6309e+01, -1.6605e+02,  1.7661e+01, -2.4220e+02, -1.1582e+02,\n",
       "        -2.7779e+02, -1.8558e+02, -8.3449e+01,  1.5215e+02,  9.8507e+01,\n",
       "        -1.6481e+02, -1.5440e+02, -1.5710e+02, -2.0395e+00, -7.8859e+01,\n",
       "         7.6928e+01,  2.0847e+02,  5.5484e+01,  3.3952e+01, -2.6132e+02,\n",
       "        -1.2056e+02, -1.9785e+02, -2.9739e+02, -3.8475e+02,  1.7320e+01,\n",
       "        -2.7116e+02,  1.2485e+02, -2.5676e+02, -1.3531e+02, -3.7131e+02,\n",
       "        -2.5369e+02, -1.8276e+02,  1.6514e+02,  6.0261e+01,  2.0312e+02,\n",
       "        -1.0960e+02, -5.8311e+01, -4.0006e+02,  2.8634e+00, -6.7842e+01,\n",
       "        -1.2264e+02,  2.5263e+01, -6.5025e+01, -1.7049e+02,  1.2030e+02,\n",
       "        -1.8381e+02, -7.2045e+01, -7.0941e+01,  1.1031e+02, -8.6729e+01,\n",
       "         1.7477e+02, -5.8490e+01, -8.2023e+01, -3.0793e+02, -1.5550e+02,\n",
       "        -2.5625e+02,  1.5918e+02, -1.4508e+02, -2.1305e+02,  5.3445e+01,\n",
       "        -1.2850e+02,  1.6106e+01, -3.6915e+02, -2.2245e+02, -9.7760e+01,\n",
       "         7.9039e+01, -2.1092e+02, -2.0308e+02, -7.0070e+01, -2.6014e+02,\n",
       "        -2.1408e+02,  1.8865e+02, -2.0172e+02,  1.6939e+02, -1.7365e+02,\n",
       "        -4.5713e+01, -2.0491e+02, -1.5061e+01, -4.0336e+02, -2.6803e+02,\n",
       "        -2.0657e+02, -2.6892e+02, -8.9117e+01, -1.0890e+02,  6.8370e+01,\n",
       "         3.1722e+01, -2.2066e+02, -9.0823e+01, -9.9974e+01, -1.8948e+02,\n",
       "        -1.5224e+02, -3.2332e+02, -1.2952e+02, -1.1549e+02,  2.3639e+02,\n",
       "        -2.9061e+02, -4.2255e+02, -2.5776e+02, -1.1253e+02, -1.7651e+02,\n",
       "        -1.6551e+00, -3.1892e+01,  6.2195e+00, -5.5673e+01, -3.1373e+02,\n",
       "        -1.4790e+02, -1.6398e+02, -3.1364e+02, -1.2585e+02, -4.5709e+02,\n",
       "        -3.1634e+02, -7.0385e+01, -6.9344e+01,  9.1464e+01,  3.6035e+01,\n",
       "        -2.6442e+02, -1.6922e+02, -2.3023e+02, -1.3638e+02,  6.8075e+01,\n",
       "         3.3495e+01, -2.4693e+02,  4.9464e+01, -1.0405e+02,  3.6293e-01])"
      ]
     },
     "execution_count": 147,
     "metadata": {},
     "output_type": "execute_result"
    }
   ],
   "execution_count": 147
  },
  {
   "metadata": {
    "ExecuteTime": {
     "end_time": "2024-07-19T11:55:28.097626Z",
     "start_time": "2024-07-19T11:55:28.094195Z"
    }
   },
   "cell_type": "code",
   "source": "Y2",
   "id": "2aefcaa71a825dff",
   "outputs": [
    {
     "data": {
      "text/plain": [
       "tensor([288442.5938, 291583.5000, 433717.5938, 281725.0312, 337762.3125,\n",
       "        244112.7344, 346070.3125, 340325.5312, 380272.7500, 242050.9219,\n",
       "        335612.8438, 355750.6250, 379318.4688, 179369.1562, 278667.2812,\n",
       "        290055.8438, 406161.0312, 299486.0938, 170728.0938, 176036.7656,\n",
       "        307158.9375, 238489.9688, 359647.4375, 321689.1250, 319110.5000,\n",
       "        244025.3438, 302604.9062, 520015.9062, 446038.5625, 446300.1250,\n",
       "        294985.0625, 529476.6250, 353563.6562, 192454.8438, 378377.2188,\n",
       "        214549.3125, 361257.5312, 253727.4219, 257486.2344, 347371.1250,\n",
       "        241830.4062, 486493.3438, 249011.5000, 357671.5000, 369168.1562,\n",
       "        372039.3125, 186339.6094, 195782.3125, 378082.6250, 278261.9688,\n",
       "        251298.0781, 221293.1719, 338563.5938, 269071.8750, 210728.6094,\n",
       "        364686.7500, 370006.9062, 546665.2500, 277252.0000, 281446.5938,\n",
       "        439795.2500, 322120.0000, 347244.0938, 254032.0469, 195712.9531,\n",
       "        386384.6250, 434994.2188, 349442.6875, 195657.5156, 331091.5312,\n",
       "        359565.3438, 283566.4688, 331772.3750, 591968.2500, 322947.1562,\n",
       "        462008.5000, 303350.2188, 418740.6250, 290912.0000, 207734.1094,\n",
       "        193458.5312, 219968.7188, 492897.4375, 441029.4688, 362370.4375,\n",
       "        254006.0156, 272294.4062, 218055.3125, 453906.9062, 400475.4062,\n",
       "        431847.5000, 703382.2500, 338086.5625, 305344.5000, 237554.5156,\n",
       "        290649.0312, 310092.6562, 231893.8438, 201942.5000, 315660.1875,\n",
       "        192037.3594, 548981.2500, 180866.6875, 351733.6875, 268695.2188,\n",
       "        177735.6562, 269878.7188, 455445.9062, 393405.2500, 356768.7500,\n",
       "        357739.9375, 341820.3125, 283007.3125, 302827.1562, 227912.5156,\n",
       "        290083.3750, 293071.8438, 264707.2812, 411367.8750, 443412.3438,\n",
       "        195891.0469, 356228.0000, 287053.5938, 300407.1562, 402741.7812,\n",
       "        444470.9688, 364890.3750, 324804.2188, 233826.4062, 350988.5312,\n",
       "        214639.7969, 425504.5938, 414674.1562, 296934.5938, 435702.5625,\n",
       "        362965.8750, 378598.1875, 182479.8125, 253495.1562, 313812.1250,\n",
       "        426973.9375, 259832.8438, 271085.4688, 336778.1250, 340483.0000,\n",
       "        334602.0625, 460695.5000, 319424.3125, 438518.8438, 215663.4062,\n",
       "        369208.5312, 337354.1875, 339241.4375, 159677.0312, 213418.9688,\n",
       "        190319.0469, 142094.5469, 307189.8750, 186211.2812, 465123.4688,\n",
       "        350438.4375, 255567.0000, 394430.0000, 220125.2500, 373813.8125,\n",
       "        332033.5938, 153218.3281, 328643.1562, 192733.4688, 395650.6250,\n",
       "        273704.8750, 167846.0938, 280405.3125, 391642.5625, 258275.8750,\n",
       "        333124.4062, 328083.0625, 421267.8750, 218838.3125, 171827.9688,\n",
       "        303887.2188, 272265.0312, 245472.8125, 365890.1562, 172690.5000,\n",
       "        270976.8125, 352312.9375, 301095.6875, 419322.2500, 334199.3125,\n",
       "        231209.3438, 326920.5938, 282392.0312, 443127.0000, 463342.2188,\n",
       "        456555.0000, 326228.6250, 364869.3125, 310128.2812, 267340.6250])"
      ]
     },
     "execution_count": 148,
     "metadata": {},
     "output_type": "execute_result"
    }
   ],
   "execution_count": 148
  },
  {
   "metadata": {
    "ExecuteTime": {
     "end_time": "2024-07-19T11:55:28.107447Z",
     "start_time": "2024-07-19T11:55:28.104967Z"
    }
   },
   "cell_type": "code",
   "source": "Y.shape",
   "id": "fa52e4ba66c1b736",
   "outputs": [
    {
     "data": {
      "text/plain": [
       "torch.Size([200])"
      ]
     },
     "execution_count": 149,
     "metadata": {},
     "output_type": "execute_result"
    }
   ],
   "execution_count": 149
  },
  {
   "metadata": {
    "ExecuteTime": {
     "end_time": "2024-07-19T11:55:28.115998Z",
     "start_time": "2024-07-19T11:55:28.112860Z"
    }
   },
   "cell_type": "code",
   "source": "Y2.shape",
   "id": "8b512feac7098d0a",
   "outputs": [
    {
     "data": {
      "text/plain": [
       "torch.Size([200])"
      ]
     },
     "execution_count": 150,
     "metadata": {},
     "output_type": "execute_result"
    }
   ],
   "execution_count": 150
  },
  {
   "metadata": {
    "ExecuteTime": {
     "end_time": "2024-07-19T11:55:28.118543Z",
     "start_time": "2024-07-19T11:55:28.115998Z"
    }
   },
   "cell_type": "code",
   "source": "best_f = Y.min().item()",
   "id": "d4b9fadfab333181",
   "outputs": [],
   "execution_count": 151
  },
  {
   "metadata": {
    "ExecuteTime": {
     "end_time": "2024-07-19T11:55:28.121486Z",
     "start_time": "2024-07-19T11:55:28.118543Z"
    }
   },
   "cell_type": "code",
   "source": "best_f",
   "id": "6bd0cd54b702833c",
   "outputs": [
    {
     "data": {
      "text/plain": [
       "-457.0860290527344"
      ]
     },
     "execution_count": 152,
     "metadata": {},
     "output_type": "execute_result"
    }
   ],
   "execution_count": 152
  },
  {
   "metadata": {
    "ExecuteTime": {
     "end_time": "2024-07-19T11:55:28.124588Z",
     "start_time": "2024-07-19T11:55:28.121486Z"
    }
   },
   "cell_type": "code",
   "source": "Y.argmin()",
   "id": "5a73d11e6481527f",
   "outputs": [
    {
     "data": {
      "text/plain": [
       "tensor(184)"
      ]
     },
     "execution_count": 153,
     "metadata": {},
     "output_type": "execute_result"
    }
   ],
   "execution_count": 153
  },
  {
   "metadata": {
    "ExecuteTime": {
     "end_time": "2024-07-19T11:55:28.127666Z",
     "start_time": "2024-07-19T11:55:28.124588Z"
    }
   },
   "cell_type": "code",
   "source": "X[Y.argmin()]",
   "id": "f90a91092b21436f",
   "outputs": [
    {
     "data": {
      "text/plain": [
       "tensor([-3.4853e+00, -6.0002e-01,  1.0805e-03,  1.2545e+00, -8.4942e-01,\n",
       "        -2.0111e+00, -1.5566e+00,  2.2363e+00,  3.0701e+00,  2.6347e+00,\n",
       "        -4.4847e-01,  5.0135e-01, -2.4653e+00, -2.7062e+00,  2.3795e+00,\n",
       "        -3.2034e+00,  3.2251e+00, -3.8593e-01,  1.9421e+00, -2.6673e+00,\n",
       "        -1.5340e+00, -1.9709e+00, -3.3149e+00, -4.6228e+00, -3.6175e+00])"
      ]
     },
     "execution_count": 154,
     "metadata": {},
     "output_type": "execute_result"
    }
   ],
   "execution_count": 154
  },
  {
   "metadata": {
    "ExecuteTime": {
     "end_time": "2024-07-19T11:55:28.129634Z",
     "start_time": "2024-07-19T11:55:28.127666Z"
    }
   },
   "cell_type": "code",
   "source": "",
   "id": "38971f1ae4074767",
   "outputs": [],
   "execution_count": 154
  }
 ],
 "metadata": {
  "kernelspec": {
   "display_name": "Python 3",
   "language": "python",
   "name": "python3"
  },
  "language_info": {
   "codemirror_mode": {
    "name": "ipython",
    "version": 2
   },
   "file_extension": ".py",
   "mimetype": "text/x-python",
   "name": "python",
   "nbconvert_exporter": "python",
   "pygments_lexer": "ipython2",
   "version": "2.7.6"
  }
 },
 "nbformat": 4,
 "nbformat_minor": 5
}
